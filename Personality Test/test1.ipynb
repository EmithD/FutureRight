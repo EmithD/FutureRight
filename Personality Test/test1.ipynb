{
 "cells": [
  {
   "cell_type": "code",
   "execution_count": 71,
   "id": "2c974143",
   "metadata": {
    "scrolled": true
   },
   "outputs": [],
   "source": [
    "import pandas as pd\n",
    "import numpy as np\n",
    "from sklearn.neighbors import KNeighborsClassifier\n",
    "\n",
    "personalityTrain = pd.read_csv('train.csv')\n",
    "personalityTrain['Gender'].replace({'Male':1, 'Female':0}, inplace=True)\n",
    "\n",
    "personalityTest = pd.read_csv('test.csv')\n",
    "personalityTest['Gender'].replace({'Male':1, 'Female':0}, inplace=True)\n",
    "\n",
    "XPersonalityTrain = personalityTrain.drop(columns = ['Personality (Class label)'])\n",
    "yPersonalityTrain = personalityTrain['Personality (Class label)']\n",
    "\n",
    "XPersonalityTest = personalityTest.drop(columns = ['Personality (class label)'])\n",
    "yPersonalityTest = personalityTest['Personality (class label)']\n",
    "\n",
    "XPersonalityTestSingle = pd.read_csv('testSingle.csv')"
   ]
  },
  {
   "cell_type": "code",
   "execution_count": 72,
   "id": "fb2d2b65",
   "metadata": {
    "scrolled": true
   },
   "outputs": [
    {
     "name": "stderr",
     "output_type": "stream",
     "text": [
      "C:\\Users\\emadi\\anaconda3\\lib\\site-packages\\sklearn\\neighbors\\_classification.py:228: FutureWarning: Unlike other reduction functions (e.g. `skew`, `kurtosis`), the default behavior of `mode` typically preserves the axis it acts along. In SciPy 1.11.0, this behavior will change: the default value of `keepdims` will become False, the `axis` over which the statistic is taken will be eliminated, and the value None will no longer be accepted. Set `keepdims` to True or False to avoid this warning.\n",
      "  mode, _ = stats.mode(_y[neigh_ind, k], axis=1)\n"
     ]
    },
    {
     "data": {
      "text/plain": [
       "array(['serious'], dtype=object)"
      ]
     },
     "execution_count": 72,
     "metadata": {},
     "output_type": "execute_result"
    }
   ],
   "source": [
    "knn = KNeighborsClassifier()\n",
    "knn.fit(XPersonalityTrain, yPersonalityTrain)\n",
    "\n",
    "predictionsKNN = knn.predict(XPersonalityTestSingle)\n",
    "\n",
    "predictionsKNN"
   ]
  },
  {
   "cell_type": "code",
   "execution_count": 73,
   "id": "987d8a7f",
   "metadata": {},
   "outputs": [
    {
     "data": {
      "text/plain": [
       "array(['extraverted'], dtype=object)"
      ]
     },
     "execution_count": 73,
     "metadata": {},
     "output_type": "execute_result"
    }
   ],
   "source": [
    "from sklearn.tree import DecisionTreeClassifier\n",
    "\n",
    "treeModel = DecisionTreeClassifier()\n",
    "treeModel.fit(XPersonalityTrain, yPersonalityTrain)\n",
    "\n",
    "predictionsTree = treeModel.predict(XPersonalityTestSingle)\n",
    "predictionsTree"
   ]
  },
  {
   "cell_type": "code",
   "execution_count": 74,
   "id": "fd47d95a",
   "metadata": {},
   "outputs": [
    {
     "data": {
      "text/plain": [
       "array(['serious'], dtype=object)"
      ]
     },
     "execution_count": 74,
     "metadata": {},
     "output_type": "execute_result"
    }
   ],
   "source": [
    "from sklearn import svm\n",
    "\n",
    "clf = svm.SVC()\n",
    "clf.fit(XPersonalityTrain, yPersonalityTrain)\n",
    "\n",
    "predictionsSVM = clf.predict(XPersonalityTestSingle)\n",
    "predictionsSVM"
   ]
  },
  {
   "cell_type": "code",
   "execution_count": null,
   "id": "7e68757e",
   "metadata": {},
   "outputs": [],
   "source": []
  }
 ],
 "metadata": {
  "kernelspec": {
   "display_name": "Python 3 (ipykernel)",
   "language": "python",
   "name": "python3"
  },
  "language_info": {
   "codemirror_mode": {
    "name": "ipython",
    "version": 3
   },
   "file_extension": ".py",
   "mimetype": "text/x-python",
   "name": "python",
   "nbconvert_exporter": "python",
   "pygments_lexer": "ipython3",
   "version": "3.9.13"
  }
 },
 "nbformat": 4,
 "nbformat_minor": 5
}
